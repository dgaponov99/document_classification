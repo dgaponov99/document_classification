{
 "cells": [
  {
   "cell_type": "code",
   "execution_count": 1,
   "metadata": {},
   "outputs": [],
   "source": [
    "import csv\n",
    "import requests\n",
    "from bs4 import BeautifulSoup"
   ]
  },
  {
   "cell_type": "code",
   "execution_count": 2,
   "metadata": {},
   "outputs": [],
   "source": [
    "FILENAME = '../data/election.csv'"
   ]
  },
  {
   "cell_type": "code",
   "execution_count": 3,
   "metadata": {},
   "outputs": [],
   "source": [
    "domain = 'http://notelections.online/region'\n",
    "link = '/region/st-petersburg?action=show&root=1&tvd=27820001217417&vrn=27820001217413&region=78&global=&sub_region=78&prver=0&pronetvd=null&vibid=27820001217417&type=222'"
   ]
  },
  {
   "cell_type": "code",
   "execution_count": 4,
   "metadata": {},
   "outputs": [],
   "source": [
    "data = [['Тик', 'Уик', 'Количество избирателей', 'Полученные бюллетени', 'Выданные бюллетени в помещении',\n",
    "         'Выданные бюллетени вне помещения', 'Погашенные бюллетени', 'Число бюллетеней в переносных',\n",
    "         'Число бюллетеней в стационарных', 'Недействительные бюллетени', 'Действительные бюллетени',\n",
    "         'Утраченные бюллетени', 'Неучтенные бюллетени', 'Амосов', 'Беглов', 'Тихонова']]"
   ]
  },
  {
   "cell_type": "code",
   "execution_count": 5,
   "metadata": {},
   "outputs": [],
   "source": [
    "page = requests.get(domain + link)\n",
    "soup = BeautifulSoup(page.text, 'html.parser')\n",
    "go_reg = soup.find('select')\n",
    "options = soup.find_all('option')[1:]\n",
    "for i in range(len(options)):\n",
    "    option = options[i]\n",
    "    \n",
    "    opt_soup = BeautifulSoup(requests.get(domain + option.get('value')).text, 'html.parser')\n",
    "    \n",
    "    tik = opt_soup.find_all('tr')[32:48]\n",
    "    tik.pop(-4)\n",
    "    \n",
    "    data_uiks_of_tik = [[int(c.text.split(' ')[-1][1:]) for c in tik[0].find_all('a')]]\n",
    "    tik.pop(0)\n",
    "    \n",
    "    for line in tik:\n",
    "        data_uiks_of_tik.append([int(c.text.split('\\n')[0]) for c in line.find_all('td')])\n",
    "        \n",
    "    tik_num = option.text.split(' ')[0]\n",
    "\n",
    "    for j in range(len(data_uiks_of_tik[0])):\n",
    "        row = [tik_num]\n",
    "        for k in range(15):\n",
    "            row.append(data_uiks_of_tik[k][j])\n",
    "        data.append(row)"
   ]
  },
  {
   "cell_type": "code",
   "execution_count": 6,
   "metadata": {},
   "outputs": [],
   "source": [
    "with open(FILENAME, \"w\", newline=\"\") as file:\n",
    "    writer = csv.writer(file)\n",
    "    writer.writerows(data)"
   ]
  }
 ],
 "metadata": {
  "kernelspec": {
   "display_name": "Python 3",
   "language": "python",
   "name": "python3"
  },
  "language_info": {
   "codemirror_mode": {
    "name": "ipython",
    "version": 3
   },
   "file_extension": ".py",
   "mimetype": "text/x-python",
   "name": "python",
   "nbconvert_exporter": "python",
   "pygments_lexer": "ipython3",
   "version": "3.7.1"
  }
 },
 "nbformat": 4,
 "nbformat_minor": 2
}