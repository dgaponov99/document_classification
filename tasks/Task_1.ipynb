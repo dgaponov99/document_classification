{
 "cells": [
  {
   "cell_type": "markdown",
   "metadata": {},
   "source": [
    "# Задание 1\n",
    "\n",
    "[Свертка списка](https://ru.wikipedia.org/wiki/%D0%A1%D0%B2%D1%91%D1%80%D1%82%D0%BA%D0%B0_%D1%81%D0%BF%D0%B8%D1%81%D0%BA%D0%B0) -  это обобщенная операция над списком, c помощью которой можно преобразовать список в единое значение. Например, рассмотрим реализации свертки слева и свертки справа (левоассоциативную свертку и правоассоциативную свертку):"
   ]
  },
  {
   "cell_type": "code",
   "execution_count": 23,
   "metadata": {
    "jupyter": {
     "outputs_hidden": true
    }
   },
   "outputs": [],
   "source": [
    "def foldl(f, x0, lst):\n",
    "    if not lst:\n",
    "        return x0\n",
    "    return foldl(f, f(x0, lst[0]), lst[1:])\n",
    "\n",
    "def foldr(f, x0, lst):\n",
    "    if not lst:\n",
    "        return x0\n",
    "    return f(lst[0], foldr(f, x0, lst[1:]))"
   ]
  },
  {
   "cell_type": "code",
   "execution_count": 24,
   "metadata": {},
   "outputs": [
    {
     "data": {
      "text/plain": [
       "6"
      ]
     },
     "execution_count": 24,
     "metadata": {},
     "output_type": "execute_result"
    }
   ],
   "source": [
    "#сумма\n",
    "foldl(lambda x, y: x + y, 0, [1, 2, 3])"
   ]
  },
  {
   "cell_type": "code",
   "execution_count": 25,
   "metadata": {},
   "outputs": [
    {
     "data": {
      "text/plain": [
       "'123'"
      ]
     },
     "execution_count": 25,
     "metadata": {},
     "output_type": "execute_result"
    }
   ],
   "source": [
    "#конкатенация\n",
    "foldl(lambda x, y: '{}{}'.format(x, y), '', [1, 2, 3])"
   ]
  },
  {
   "cell_type": "code",
   "execution_count": 26,
   "metadata": {},
   "outputs": [
    {
     "data": {
      "text/plain": [
       "(0.16666666666666666, 1.5)"
      ]
     },
     "execution_count": 26,
     "metadata": {},
     "output_type": "execute_result"
    }
   ],
   "source": [
    "f = lambda x, y: x / y\n",
    "foldl(f, 1, [1, 2, 3]), \\\n",
    "foldr(f, 1, [1, 2, 3])"
   ]
  },
  {
   "cell_type": "markdown",
   "metadata": {},
   "source": [
    "Задача: реализовать foldl через foldr и наоборот. Вместо многоточий нужно вставить выражения, которые бы привели к нужному результату. Модифицировать сам список нельзя. "
   ]
  },
  {
   "cell_type": "code",
   "execution_count": 27,
   "metadata": {
    "jupyter": {
     "outputs_hidden": true
    }
   },
   "outputs": [],
   "source": [
    "def foldl2(f, x0, lst):\n",
    "    return foldr(lambda val, acc: lambda n: acc(f(n, val)),  lambda x: x, lst)(x0)"
   ]
  },
  {
   "cell_type": "code",
   "execution_count": 28,
   "metadata": {},
   "outputs": [
    {
     "data": {
      "text/plain": [
       "'123'"
      ]
     },
     "execution_count": 28,
     "metadata": {},
     "output_type": "execute_result"
    }
   ],
   "source": [
    "foldl2(lambda x, y: '{}{}'.format(x, y), '', [1, 2, 3])"
   ]
  },
  {
   "cell_type": "code",
   "execution_count": 29,
   "metadata": {
    "jupyter": {
     "outputs_hidden": true
    }
   },
   "outputs": [],
   "source": [
    "def foldr2(f, x0, lst):\n",
    "    return foldl(lambda acc, val: lambda n: acc(f(val, n)), lambda x: x, lst)(x0)"
   ]
  },
  {
   "cell_type": "code",
   "execution_count": 30,
   "metadata": {},
   "outputs": [
    {
     "data": {
      "text/plain": [
       "6"
      ]
     },
     "execution_count": 30,
     "metadata": {},
     "output_type": "execute_result"
    }
   ],
   "source": [
    "#сумма\n",
    "foldr2(lambda x, y: x + y, 0, [1, 2, 3])"
   ]
  },
  {
   "cell_type": "code",
   "execution_count": 31,
   "metadata": {},
   "outputs": [
    {
     "data": {
      "text/plain": [
       "'123'"
      ]
     },
     "execution_count": 31,
     "metadata": {},
     "output_type": "execute_result"
    }
   ],
   "source": [
    "#конкатенация\n",
    "foldr2(lambda x, y: '{}{}'.format(x, y), '', [1, 2, 3])"
   ]
  },
  {
   "cell_type": "code",
   "execution_count": 32,
   "metadata": {},
   "outputs": [
    {
     "data": {
      "text/plain": [
       "1.5"
      ]
     },
     "execution_count": 32,
     "metadata": {},
     "output_type": "execute_result"
    }
   ],
   "source": [
    "f = lambda x, y: x / y\n",
    "foldr2(f, 1, [1, 2, 3])"
   ]
  },
  {
   "cell_type": "markdown",
   "metadata": {},
   "source": [
    "# Задание 2\n",
    "\n",
    "нужно написать функцию, которая принимает две строки и проверяет, входит ли хотя бы одна перестановка второй строки в первую. Например:\n",
    "\n",
    "> a = 'abcrotm'\n",
    "> \n",
    "> b = 'tro'\n",
    "\n",
    "функция def check_inv(a, b) вернет True, так как 'rot' содержится в 'abcrotm'. Нужно подумать как можно более оптимальный алгоритм и оценить его сложность. "
   ]
  },
  {
   "cell_type": "code",
   "execution_count": 33,
   "metadata": {
    "jupyter": {
     "outputs_hidden": true
    }
   },
   "outputs": [],
   "source": [
    "def check_inv(a, b):\n",
    "    if len(b) > len(a):\n",
    "        return False\n",
    "\n",
    "    #Создаем словарь строки b, где ключами являются символы, а значениями - кол-во этих символов в строке\n",
    "    b_dict = {}\n",
    "    for c in b:\n",
    "        val = b_dict.get(c, 0)\n",
    "        b_dict[c]=val+1\n",
    "\n",
    "    #Создаем словарь из первых len(b)-1 элементов строки a по такому же принципу\n",
    "    a_dict = {}\n",
    "    for c in a[:len(b)-1]:\n",
    "        val = a_dict.get(c, 0)\n",
    "        a_dict[c] = val + 1\n",
    "\n",
    "    #Проходясь по строке а, добавляем следующий символ, проверяем равенство словарей, удаляем левый символ\n",
    "    for i in range(len(b)-1, len(a)):\n",
    "        val = a_dict.get(a[i], 0)\n",
    "        a_dict[a[i]] = val + 1\n",
    "        if b_dict == a_dict:\n",
    "            return True\n",
    "        val = a_dict[a[i-len(b)+1]]\n",
    "        if val > 1:\n",
    "            a_dict[a[i-len(b)+1]]= val - 1\n",
    "        else:\n",
    "            a_dict.pop(a[i-len(b)+1])\n",
    "                   \n",
    "    return False\n",
    "       "
   ]
  },
  {
   "cell_type": "markdown",
   "metadata": {},
   "source": [
    "Первый цикл имеет длину len(b): операция get - O(1), операция put - O(1*) => общая сложность: O(len(b))\n",
    "\n",
    "Второй цикл аналогично - O(len(b)-1)= O(len(b))\n",
    "\n",
    "Третий цикл имеет длину (len(a) - (len(b) - 1)): сравение словарей, размер которых ограничен размером алфавита => O(1), Операция pop - O(1*) => сложность цикла O(len(a)-len(b))\n",
    "\n",
    "=> общая сложность функции - O(len(a))"
   ]
  },
  {
   "cell_type": "code",
   "execution_count": 34,
   "metadata": {},
   "outputs": [
    {
     "data": {
      "text/plain": [
       "True"
      ]
     },
     "execution_count": 34,
     "metadata": {},
     "output_type": "execute_result"
    }
   ],
   "source": [
    "a = 'abcrotm'\n",
    "b = 'tro'\n",
    "check_inv(a, b)"
   ]
  },
  {
   "cell_type": "code",
   "execution_count": 35,
   "metadata": {},
   "outputs": [
    {
     "data": {
      "text/plain": [
       "False"
      ]
     },
     "execution_count": 35,
     "metadata": {},
     "output_type": "execute_result"
    }
   ],
   "source": [
    "a = 'obcratm'\n",
    "b = 'tro'\n",
    "\n",
    "check_inv(a, b)"
   ]
  },
  {
   "cell_type": "code",
   "execution_count": 36,
   "metadata": {},
   "outputs": [
    {
     "data": {
      "text/plain": [
       "True"
      ]
     },
     "execution_count": 36,
     "metadata": {},
     "output_type": "execute_result"
    }
   ],
   "source": [
    "a = 'rot'\n",
    "b = 'tro'\n",
    "check_inv(a, b)"
   ]
  },
  {
   "cell_type": "markdown",
   "metadata": {},
   "source": [
    "# Задание 3\n",
    "\n",
    "Реализовать бинарное дерево (класс Tree), в нём методы __repr__, __str__, __iter__ (итерация только по листьям)."
   ]
  },
  {
   "cell_type": "code",
   "execution_count": 37,
   "metadata": {},
   "outputs": [
    {
     "data": {
      "text/plain": [
       "True"
      ]
     },
     "execution_count": 37,
     "metadata": {},
     "output_type": "execute_result"
    }
   ],
   "source": [
    "class Tree:\n",
    "    def __init__(self, value=None, left=None, right=None):\n",
    "        self.left = left\n",
    "        self.right = right\n",
    "        self.value = value\n",
    "        \n",
    "    def __iter__(self):\n",
    "        if self.left == None and self.right == None:\n",
    "            yield self.value\n",
    "        if self.left != None:\n",
    "            for node in self.left:\n",
    "                yield node\n",
    "        if self.right != None:\n",
    "            for node in self.right:\n",
    "                yield node\n",
    "    \n",
    "    def __str__(self):\n",
    "        #Рекурсивно собираем значения сначала слева, потом справа\n",
    "        val = [str(self.value)]\n",
    "        \n",
    "        if(self.left != None):\n",
    "            val.append(str(self.left))\n",
    "            \n",
    "        if(self.right != None):\n",
    "            val.append(str(self.right))\n",
    "        val = ' '.join(val)\n",
    "        return val\n",
    "    \n",
    "    def __repr__(self):\n",
    "        return 'Tree({value}, {left}, {right})'.format(value = self.value, left = repr(self.left), right = repr(self.right))\n",
    "\n",
    "tree = Tree(0, Tree(1, Tree(3), Tree(4)), Tree(2))\n",
    "\n",
    "list(tree) == [3, 4, 2]"
   ]
  },
  {
   "cell_type": "code",
   "execution_count": 38,
   "metadata": {},
   "outputs": [
    {
     "name": "stdout",
     "output_type": "stream",
     "text": [
      "0 1 3 4 2\n"
     ]
    }
   ],
   "source": [
    "print(tree)"
   ]
  },
  {
   "cell_type": "code",
   "execution_count": 39,
   "metadata": {},
   "outputs": [
    {
     "data": {
      "text/plain": [
       "Tree(0, Tree(1, Tree(3, None, None), Tree(4, None, None)), Tree(2, None, None))"
      ]
     },
     "execution_count": 39,
     "metadata": {},
     "output_type": "execute_result"
    }
   ],
   "source": [
    "tree"
   ]
  },
  {
   "cell_type": "markdown",
   "metadata": {},
   "source": [
    "# Задание 4\n",
    "\n",
    "Реализовать простейший калькулятор математических выражений:\n",
    "- только целые числа\n",
    "- **+**, **\\-**, **\\***, **\\**\n",
    "- скобки\n",
    "\n",
    "**Можно использовать регулярные выражения**"
   ]
  },
  {
   "cell_type": "code",
   "execution_count": 2,
   "metadata": {
    "jupyter": {
     "outputs_hidden": true
    }
   },
   "outputs": [
    {
     "name": "stdout",
     "output_type": "stream",
     "text": [
      "True\n",
      "True\n"
     ]
    }
   ],
   "source": [
    "from operator import add, sub, mul, truediv\n",
    "\n",
    "def calc(expr):\n",
    "    \n",
    "    expr_list = []\n",
    "    \n",
    "    #--------------------------------\n",
    "    #Преобразование строки в список, может использоваться любое количество пробелов\n",
    "    j = 0\n",
    "    for i in range(len(expr)):\n",
    "        t = expr[i]\n",
    "        if t in ['+', '-', '*', '/', '(', ')']:\n",
    "            v = expr[j:i].replace(' ', '')\n",
    "            if len(v)>0:\n",
    "                expr_list.append(v)\n",
    "            expr_list.append(t)\n",
    "            j = i+1\n",
    "    v = expr[j:].replace(' ', '')\n",
    "    if len(v)>0:\n",
    "        expr_list.append(v)\n",
    "    #---------------------------------------\n",
    "    \n",
    "    #--------------------------------------\n",
    "    #Приведение списка к обратной польской записи\n",
    "    rpn = []\n",
    "    operators = []\n",
    "    i = 0\n",
    "    priority = {'-':0, '+':0, '*':1, '/':1, '(':0, ')':0}\n",
    "    for t in expr_list:\n",
    "        if t.isalnum():\n",
    "            rpn.append(t)\n",
    "        elif t in ['+', '-', '*', '/']:\n",
    "            while len(operators) > 0 and operators[-1] != '(' and (priority[t] < priority[operators[-1]] or priority[t] == priority[operators[-1]]):\n",
    "                rpn.append(operators.pop())\n",
    "            operators.append(t)\n",
    "        elif t == '(':\n",
    "            operators.append(t)\n",
    "        elif t == ')':\n",
    "            #Двигаемся к открывающейся скобке\n",
    "            while operators[-1] != '(':\n",
    "                rpn.append(operators.pop())\n",
    "            if operators[-1] == '(':\n",
    "                operators.pop()\n",
    "    rpn += operators\n",
    "    #-------------------------------------------\n",
    "    \n",
    "    #-------------------------------------------\n",
    "    #Используя стек проводим вычисления\n",
    "    OP = {'+': add, '-': sub, '*': mul, '/': truediv}\n",
    "    stack = []\n",
    "    for c in rpn:\n",
    "        if c.isalnum():\n",
    "            stack.append(c)\n",
    "        else:\n",
    "            n1, n2 = stack.pop(), stack.pop()\n",
    "            stack.append(OP[c](int(n2), int(n1)))\n",
    "    #-------------------------------------------\n",
    "    \n",
    "    return stack.pop()\n",
    "\n",
    "\n",
    "print(calc('2 * (15 - 3 * 4) - 2')  == 4)  \n",
    "print(calc('10-4/(22-20)+7') == 15)"
   ]
  }
 ],
 "metadata": {
  "kernelspec": {
   "display_name": "Python 3",
   "language": "python",
   "name": "python3"
  },
  "language_info": {
   "codemirror_mode": {
    "name": "ipython",
    "version": 3
   },
   "file_extension": ".py",
   "mimetype": "text/x-python",
   "name": "python",
   "nbconvert_exporter": "python",
   "pygments_lexer": "ipython3",
   "version": "3.7.1"
  }
 },
 "nbformat": 4,
 "nbformat_minor": 4
}