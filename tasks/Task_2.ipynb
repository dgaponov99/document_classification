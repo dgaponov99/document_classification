{
 "cells": [
  {
   "cell_type": "code",
   "execution_count": 2,
   "metadata": {},
   "outputs": [],
   "source": [
    "import numpy as np\n",
    "import scipy as sp\n",
    "import matplotlib.pyplot as plt\n",
    "import seaborn as sns\n",
    "\n",
    "%matplotlib inline"
   ]
  },
  {
   "cell_type": "markdown",
   "metadata": {},
   "source": [
    "# 1. Работа с массивами NumPy"
   ]
  },
  {
   "cell_type": "markdown",
   "metadata": {},
   "source": [
    "**N. Все упражнения ниже нужно делать без использования циклов Python**\n",
    "\n",
    "**1.** Cоздать вектор\n",
    "\n",
    "$$(2, \\frac{2^2}{2}, \\ldots, \\frac{2^{20}}{20})$$\n",
    "\n",
    "Можно использовать функции [np.arange()](http://docs.scipy.org/doc/numpy/reference/generated/numpy.arange.html), [np.ones()](http://docs.scipy.org/doc/numpy/reference/generated/numpy.ones.html)"
   ]
  },
  {
   "cell_type": "code",
   "execution_count": 3,
   "metadata": {},
   "outputs": [
    {
     "data": {
      "text/plain": [
       "array([2.00000000e+00, 2.00000000e+00, 2.66666667e+00, 4.00000000e+00,\n",
       "       6.40000000e+00, 1.06666667e+01, 1.82857143e+01, 3.20000000e+01,\n",
       "       5.68888889e+01, 1.02400000e+02, 1.86181818e+02, 3.41333333e+02,\n",
       "       6.30153846e+02, 1.17028571e+03, 2.18453333e+03, 4.09600000e+03,\n",
       "       7.71011765e+03, 1.45635556e+04, 2.75941053e+04, 5.24288000e+04])"
      ]
     },
     "execution_count": 3,
     "metadata": {},
     "output_type": "execute_result"
    }
   ],
   "source": [
    "v = np.ones(20) + 1\n",
    "koef = np.arange(1, 21)\n",
    "v**koef / koef\n"
   ]
  },
  {
   "cell_type": "markdown",
   "metadata": {},
   "source": [
    "**2.** Посчитать:\n",
    "\n",
    "$$\\sum\\limits_{i=0}^{5}{0.1^{3i}0.2^{4i}}$$\n"
   ]
  },
  {
   "cell_type": "code",
   "execution_count": 4,
   "metadata": {},
   "outputs": [
    {
     "data": {
      "text/plain": [
       "1.00000160000256"
      ]
     },
     "execution_count": 4,
     "metadata": {},
     "output_type": "execute_result"
    }
   ],
   "source": [
    "koef = np.arange(6)\n",
    "a = (0.1*np.ones([1, 6]))**(3*koef)\n",
    "b = ((0.2*np.ones([1, 6]))**(4*koef)).T\n",
    "(a @ b)[0, 0]"
   ]
  },
  {
   "cell_type": "markdown",
   "metadata": {},
   "source": [
    "**3.** Создать нулевую матрицe $8 \\times 8$, и заполнить её единицами в шахматном порядке."
   ]
  },
  {
   "cell_type": "code",
   "execution_count": 5,
   "metadata": {},
   "outputs": [
    {
     "data": {
      "text/plain": [
       "array([[0., 1., 0., 1., 0., 1., 0., 1.],\n",
       "       [1., 0., 1., 0., 1., 0., 1., 0.],\n",
       "       [0., 1., 0., 1., 0., 1., 0., 1.],\n",
       "       [1., 0., 1., 0., 1., 0., 1., 0.],\n",
       "       [0., 1., 0., 1., 0., 1., 0., 1.],\n",
       "       [1., 0., 1., 0., 1., 0., 1., 0.],\n",
       "       [0., 1., 0., 1., 0., 1., 0., 1.],\n",
       "       [1., 0., 1., 0., 1., 0., 1., 0.]])"
      ]
     },
     "execution_count": 5,
     "metadata": {},
     "output_type": "execute_result"
    }
   ],
   "source": [
    "z = np.zeros([8, 8])\n",
    "z[1::2, ::2] = 1\n",
    "z[::2, 1::2] = 1\n",
    "z"
   ]
  },
  {
   "cell_type": "markdown",
   "metadata": {},
   "source": [
    "**4.** Есть 5 точек в декартовой системе координат (в виде матрицы $X$ размерностью $5 \\times 2$), сконвертируйте эти точки в полярную систему координат."
   ]
  },
  {
   "cell_type": "code",
   "execution_count": 6,
   "metadata": {},
   "outputs": [
    {
     "data": {
      "text/plain": [
       "array([[0.60996764, 1.24492457],\n",
       "       [0.37974957, 0.29825557],\n",
       "       [0.73865639, 0.38430944],\n",
       "       [0.33177326, 1.17300251],\n",
       "       [0.31596677, 0.58760919]])"
      ]
     },
     "execution_count": 6,
     "metadata": {},
     "output_type": "execute_result"
    }
   ],
   "source": [
    "X = np.random.random((5, 2))\n",
    "x = X[:, 0]\n",
    "y = X[:, 1]\n",
    "r = np.sqrt(x**2 + y**2)\n",
    "phi = np.arctan(y/x)\n",
    "X[:, 0] = r\n",
    "X[:, 1] = phi\n",
    "X"
   ]
  },
  {
   "cell_type": "markdown",
   "metadata": {},
   "source": [
    "**5.** Найдите индексы максимального элемента в случайной матрице $10 \\times 10$.\n",
    "\n",
    "Cм. [np.argmax()](http://docs.scipy.org/doc/numpy/reference/generated/numpy.argmax.html)."
   ]
  },
  {
   "cell_type": "code",
   "execution_count": 7,
   "metadata": {},
   "outputs": [
    {
     "data": {
      "text/plain": [
       "(array([[0.46257377, 0.28732544, 0.86817347, 0.95666484, 0.90612908,\n",
       "         0.37359394, 0.30108378, 0.59052333, 0.31683607, 0.73984954],\n",
       "        [0.67210829, 0.82481809, 0.61044944, 0.6309563 , 0.46487528,\n",
       "         0.79552746, 0.80210419, 0.52796139, 0.40243407, 0.63603964],\n",
       "        [0.78815961, 0.40320379, 0.62076406, 0.87175751, 0.69019673,\n",
       "         0.15814282, 0.90438747, 0.84361789, 0.4957611 , 0.88676209],\n",
       "        [0.57362189, 0.7063295 , 0.69630309, 0.40662789, 0.14989373,\n",
       "         0.61788421, 0.7849523 , 0.58086123, 0.12119791, 0.62536795],\n",
       "        [0.3005517 , 0.66827198, 0.12153982, 0.94419305, 0.06029068,\n",
       "         0.3171652 , 0.85239077, 0.00736311, 0.71221561, 0.39757026],\n",
       "        [0.21768516, 0.88482369, 0.38398741, 0.6188366 , 0.63146276,\n",
       "         0.78622046, 0.07912708, 0.77487101, 0.71269554, 0.08210528],\n",
       "        [0.86107086, 0.51129168, 0.79030738, 0.03200944, 0.4027854 ,\n",
       "         0.28027919, 0.04450159, 0.65830299, 0.96167961, 0.42798655],\n",
       "        [0.30235841, 0.99499684, 0.5392093 , 0.31463285, 0.67808937,\n",
       "         0.99704307, 0.50788973, 0.82686709, 0.25703088, 0.66236456],\n",
       "        [0.11714587, 0.32394558, 0.42296157, 0.16752876, 0.16568213,\n",
       "         0.3801504 , 0.89521562, 0.21525517, 0.35630338, 0.81388956],\n",
       "        [0.69633798, 0.3049422 , 0.88623826, 0.33802797, 0.65643023,\n",
       "         0.59386217, 0.85086471, 0.3761125 , 0.99723298, 0.02155323]]), (9, 8))"
      ]
     },
     "execution_count": 7,
     "metadata": {},
     "output_type": "execute_result"
    }
   ],
   "source": [
    "X = np.random.random((10, 10))\n",
    "max_index = np.unravel_index(np.argmax(X), X.shape)\n",
    "X, max_index"
   ]
  },
  {
   "cell_type": "markdown",
   "metadata": {},
   "source": [
    "**6.** Есть 10 точек ($X$) и ещё одна ($y$). Найти в $X$ ближайшую к $y$ точку."
   ]
  },
  {
   "cell_type": "code",
   "execution_count": 8,
   "metadata": {},
   "outputs": [
    {
     "name": "stdout",
     "output_type": "stream",
     "text": [
      "[[0.96742903 0.69501295]\n",
      " [0.16685038 0.86202113]\n",
      " [0.23904923 0.82029048]\n",
      " [0.89486264 0.22712462]\n",
      " [0.69417559 0.21552746]\n",
      " [0.73615782 0.43348727]\n",
      " [0.51482181 0.34290203]\n",
      " [0.10656307 0.54679001]\n",
      " [0.69377284 0.69860047]\n",
      " [0.39713267 0.33639988]] [[0.04667651 0.45772362]]\n"
     ]
    },
    {
     "data": {
      "text/plain": [
       "array([0.10656307, 0.54679001])"
      ]
     },
     "execution_count": 8,
     "metadata": {},
     "output_type": "execute_result"
    }
   ],
   "source": [
    "X = np.random.random((10, 2))\n",
    "y = np.random.random((1, 2))\n",
    "z = np.sum((X - y)**2, 1)\n",
    "print(X, y) \n",
    "X[np.argmin(z),:]"
   ]
  },
  {
   "cell_type": "markdown",
   "metadata": {},
   "source": [
    "**7.** Дана функция:\n",
    "\n",
    "$$\n",
    " \\begin{cases}\n",
    "    x^2 + 2x + 6, & x < 0  \\\\\n",
    "    x + 6, & 0 \\le x \\le 2 \\\\\n",
    "    x^2 + 4x - 4, & x \\ge 2\n",
    " \\end{cases}\n",
    "$$\n",
    "\n",
    "Постройте массив из её значений на  $-3 \\le x \\le 3$."
   ]
  },
  {
   "cell_type": "code",
   "execution_count": 9,
   "metadata": {},
   "outputs": [
    {
     "name": "stdout",
     "output_type": "stream",
     "text": [
      "[9.0, 8.761248852157943, 8.529843893480258, 8.305785123966942, 8.089072543617998, 7.879706152433425, 7.677685950413223, 7.483011937557392, 7.295684113865932, 7.115702479338843, 6.943067033976125, 6.777777777777777, 6.619834710743801, 6.469237832874196, 6.325987144168962, 6.190082644628099, 6.061524334251607, 5.940312213039485, 5.8264462809917354, 5.719926538108356, 5.620752984389348, 5.528925619834711, 5.444444444444445, 5.367309458218549, 5.297520661157025, 5.235078053259871, 5.179981634527089, 5.132231404958677, 5.0918273645546375, 5.058769513314968, 5.033057851239669, 5.014692378328742, 5.003673094582186, 5.0, 5.003673094582186, 5.014692378328742, 5.033057851239669, 5.058769513314968, 5.0918273645546375, 5.132231404958678, 5.179981634527089, 5.235078053259872, 5.297520661157025, 5.367309458218549, 5.444444444444445, 5.528925619834711, 5.620752984389348, 5.719926538108356, 5.8264462809917354, 5.940312213039486, 6.03030303030303, 6.090909090909091, 6.151515151515151, 6.212121212121213, 6.272727272727273, 6.333333333333334, 6.3939393939393945, 6.454545454545455, 6.515151515151516, 6.575757575757576, 6.636363636363637, 6.696969696969697, 6.757575757575758, 6.818181818181818, 6.878787878787879, 6.9393939393939394, 7.0, 7.0606060606060606, 7.121212121212121, 7.181818181818182, 7.242424242424242, 7.303030303030303, 7.363636363636363, 7.424242424242425, 7.484848484848485, 7.545454545454546, 7.606060606060606, 7.666666666666667, 7.7272727272727275, 7.787878787878788, 7.848484848484849, 7.909090909090909, 7.96969696969697, 8.243342516069788, 8.735537190082644, 9.235078053259869, 9.741965105601468, 10.256198347107436, 10.777777777777782, 11.306703397612493, 11.842975206611575, 12.386593204775025, 12.93755739210285, 13.495867768595044, 14.061524334251608, 14.634527089072545, 15.214876033057852, 15.802571166207532, 16.39761248852158, 17.0]\n"
     ]
    },
    {
     "data": {
      "image/png": "[encoded data removed]",
      "text/plain": [
       "<Figure size 432x288 with 1 Axes>"
      ]
     },
     "metadata": {
      "needs_background": "light"
     },
     "output_type": "display_data"
    }
   ],
   "source": [
    "def f(x):\n",
    "    if x < 0:\n",
    "        return x**2+2*x+6\n",
    "    elif x<=2:\n",
    "        return x+ 6\n",
    "    elif x>2:\n",
    "        return x**2+4*x-4\n",
    "    \n",
    "x = np.linspace(-3, 3, 100)\n",
    "y = list(map(f, x))\n",
    "print(y)\n",
    "plt.axis('equal')\n",
    "plt.grid()\n",
    "a = plt.plot(x, y)"
   ]
  },
  {
   "cell_type": "markdown",
   "metadata": {},
   "source": [
    "**8.** Из каждого элемента матрицы вычесть среднее арифметическое от всех элементов в соответствующей строке (после чего среднее значение каждой строки должно равняться нулю).\n",
    "\n",
    "Cм. [np.mean()](http://docs.scipy.org/doc/numpy/reference/generated/numpy.mean.html)."
   ]
  },
  {
   "cell_type": "code",
   "execution_count": 10,
   "metadata": {},
   "outputs": [
    {
     "data": {
      "text/plain": [
       "(array([[ 0.07993324, -0.2379034 ,  0.18714579,  0.48304716, -0.15608551,\n",
       "          0.16714892, -0.13464962, -0.31255564,  0.3442081 , -0.42028903],\n",
       "        [ 0.41870122,  0.01802967,  0.06793794,  0.02483486, -0.04655719,\n",
       "         -0.06997571, -0.5629207 ,  0.05665263,  0.01687087,  0.0764264 ],\n",
       "        [-0.1526181 ,  0.18997594,  0.28511593, -0.19246049,  0.03957143,\n",
       "         -0.43478354,  0.33098987,  0.01840539,  0.09152855, -0.17572497],\n",
       "        [ 0.27493253, -0.33136393,  0.18073234, -0.6563933 ,  0.13465079,\n",
       "          0.22499002, -0.06232585,  0.24736493, -0.20264993,  0.19006241],\n",
       "        [-0.23445808,  0.09045716,  0.07322214, -0.06845085,  0.54789736,\n",
       "         -0.35062393, -0.29303783, -0.22690196, -0.06833685,  0.53023284],\n",
       "        [ 0.20505194,  0.28845661,  0.04104527, -0.08505123,  0.34977991,\n",
       "         -0.08389106, -0.34547851,  0.01753932, -0.03056573, -0.35688652],\n",
       "        [ 0.14532894, -0.07610996, -0.45607794, -0.30620321, -0.31174351,\n",
       "          0.03519707,  0.4084349 ,  0.14217772,  0.48722042, -0.06822442],\n",
       "        [-0.18039166,  0.5619277 , -0.37999802, -0.24494027, -0.13648587,\n",
       "         -0.10765069, -0.27033394,  0.52872449, -0.16949945,  0.39864772],\n",
       "        [ 0.03695129, -0.04701709,  0.14941712, -0.39393538,  0.21868928,\n",
       "         -0.31030733,  0.56244022, -0.15747668, -0.24890219,  0.19014075],\n",
       "        [-0.03947431, -0.3878845 ,  0.22139536, -0.48007476,  0.25637212,\n",
       "         -0.02002986,  0.21503381,  0.30122231,  0.20251269, -0.26907287]]),\n",
       " array([-2.22044605e-17, -1.11022302e-17, -2.22044605e-17, -7.77156117e-17,\n",
       "         1.11022302e-17, -5.55111512e-17, -2.22044605e-17,  6.66133815e-17,\n",
       "        -7.21644966e-17,  4.44089210e-17]))"
      ]
     },
     "execution_count": 10,
     "metadata": {},
     "output_type": "execute_result"
    }
   ],
   "source": [
    "X = np.random.random((10, 10))\n",
    "mn = (X.T - np.mean(X, 1)).T\n",
    "mn, np.mean(mn, 1)"
   ]
  },
  {
   "cell_type": "markdown",
   "metadata": {},
   "source": [
    "**9.** Есть массив из 1000 чисел, полученных из генератора случайных чисел, имеющий нормальное распределение. Посчитайте выборочное среднее и выборочную дисперсию. "
   ]
  },
  {
   "cell_type": "code",
   "execution_count": 11,
   "metadata": {},
   "outputs": [
    {
     "data": {
      "text/plain": [
       "(4.998454297231886, 3.6443436840103476, '=', 3.6443436840103476)"
      ]
     },
     "execution_count": 11,
     "metadata": {},
     "output_type": "execute_result"
    }
   ],
   "source": [
    "X = np.random.normal(loc=5, scale=2., size=1000)\n",
    "X.mean(), np.sum((X - X.mean())**2)/X.size, '=', X.var()"
   ]
  },
  {
   "cell_type": "markdown",
   "metadata": {},
   "source": [
    "**10.** Создать матрицу:\n",
    "\n",
    "$$\n",
    "\\begin{pmatrix}\n",
    "0 & 1 & 2 & 3 & 4 \\\\\n",
    "1 & 2 & 3 & 4 & 0 \\\\\n",
    "2 & 3 & 4 & 0 & 1 \\\\\n",
    "3 & 4 & 0 & 1 & 2 \\\\\n",
    "4 & 0 & 1 & 2 & 3\n",
    "\\end{pmatrix}\n",
    "$$"
   ]
  },
  {
   "cell_type": "code",
   "execution_count": 12,
   "metadata": {},
   "outputs": [
    {
     "data": {
      "text/plain": [
       "array([[0., 1., 2., 3., 4.],\n",
       "       [1., 2., 3., 4., 0.],\n",
       "       [2., 3., 4., 0., 1.],\n",
       "       [3., 4., 0., 1., 2.],\n",
       "       [4., 0., 1., 2., 3.]])"
      ]
     },
     "execution_count": 12,
     "metadata": {},
     "output_type": "execute_result"
    }
   ],
   "source": [
    "A = np.ones([5, 5])*np.arange(5)\n",
    "A += A.T\n",
    "A %= 5\n",
    "A"
   ]
  },
  {
   "cell_type": "markdown",
   "metadata": {},
   "source": [
    "**11.** Есть следующий алгоритм семплинирования, на вход функции подается вектор из целых положительных чисел и число семплов."
   ]
  },
  {
   "cell_type": "code",
   "execution_count": 13,
   "metadata": {},
   "outputs": [
    {
     "data": {
      "text/plain": [
       "[0, 0, 3, 0, 4]"
      ]
     },
     "execution_count": 13,
     "metadata": {},
     "output_type": "execute_result"
    }
   ],
   "source": [
    "def sample(x, c):\n",
    "    assert len(x) > 0\n",
    "    \n",
    "    s = np.sum(x)\n",
    "    res = []\n",
    "    for _ in range(c):\n",
    "        val = s * np.random.random()\n",
    "        cur, idx = 0, 0        \n",
    "        while cur + x[idx] <= val:\n",
    "            cur += x[idx]\n",
    "            idx += 1\n",
    "            \n",
    "        res.append(idx)\n",
    "    return res\n",
    "\n",
    "            \n",
    "sample([50, 3, 1, 7, 20], 5)    "
   ]
  },
  {
   "cell_type": "markdown",
   "metadata": {},
   "source": [
    "Реализуйте данный алгоритм более оптимальным способом, без использования циклов."
   ]
  },
  {
   "cell_type": "code",
   "execution_count": 17,
   "metadata": {},
   "outputs": [
    {
     "data": {
      "text/plain": [
       "[0, 0, 4, 1, 0]"
      ]
     },
     "execution_count": 17,
     "metadata": {},
     "output_type": "execute_result"
    }
   ],
   "source": [
    "def sample1(x, c):\n",
    "    assert len(x)>0\n",
    "    s = np.sum(x)\n",
    "    val = s*np.random.random(c)\n",
    "    res = np.argmin((np.cumsum(x) <= val.reshape(-1, 1)), axis=1)\n",
    "    return res\n",
    "\n",
    "list(sample1([50,3,1,7,20], 5))"
   ]
  }
 ],
 "metadata": {
  "kernelspec": {
   "display_name": "Python 3",
   "language": "python",
   "name": "python3"
  },
  "language_info": {
   "codemirror_mode": {
    "name": "ipython",
    "version": 3
   },
   "file_extension": ".py",
   "mimetype": "text/x-python",
   "name": "python",
   "nbconvert_exporter": "python",
   "pygments_lexer": "ipython3",
   "version": "3.7.1"
  }
 },
 "nbformat": 4,
 "nbformat_minor": 4
}